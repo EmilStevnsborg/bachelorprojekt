{
 "cells": [
  {
   "cell_type": "code",
   "execution_count": 17,
   "metadata": {},
   "outputs": [],
   "source": [
    "import numpy as np\n",
    "import torch\n",
    "import torch.nn as nn\n",
    "import torchvision\n",
    "import torchvision.datasets as datasets\n",
    "from torch.utils.data import DataLoader, TensorDataset, Subset\n",
    "import torch.optim as optim\n",
    "import torch.nn.functional as F\n",
    "from CNN_small_architecture import CNNSmall\n",
    "import os\n",
    "import matplotlib.pyplot as plt\n",
    "import numpy as np"
   ]
  },
  {
   "cell_type": "code",
   "execution_count": 2,
   "metadata": {},
   "outputs": [],
   "source": [
    "def tokenize(num):\n",
    "    if num == 1:\n",
    "        return torch.tensor(np.array([1., 0.]))\n",
    "    else:\n",
    "        return torch.tensor(np.array([0., 1.]))\n",
    "\n",
    "MNIST_train = datasets.MNIST(root='./data', train=True, download=True, transform=torchvision.transforms.ToTensor())\n",
    "\n",
    "train_set = [[data[0], tokenize(data[1])] for data in MNIST_train if data[1] in [1,2]]\n",
    "\n",
    "\n",
    "batch_size = 10\n",
    "train_loader = DataLoader(train_set, batch_size=batch_size)"
   ]
  },
  {
   "cell_type": "code",
   "execution_count": 3,
   "metadata": {},
   "outputs": [],
   "source": [
    "# Helper function for inline image display\n",
    "def matplotlib_imshow(image_batch, one_channel=False):\n",
    "    if one_channel:\n",
    "        image_batch = image_batch.mean(dim=0)\n",
    "    image_batch = image_batch / 2 + 0.5     # unnormalize\n",
    "    npimg = image_batch.numpy()\n",
    "    if one_channel:\n",
    "        plt.imshow(npimg, cmap=\"Greys\")\n",
    "    else:\n",
    "        plt.imshow(np.transpose(npimg, (1, 2, 0)))"
   ]
  },
  {
   "cell_type": "code",
   "execution_count": 27,
   "metadata": {},
   "outputs": [
    {
     "data": {
      "image/png": "[encoded data removed]",
      "text/plain": [
       "<Figure size 750x400 with 10 Axes>"
      ]
     },
     "metadata": {},
     "output_type": "display_data"
    }
   ],
   "source": [
    "dataiter = iter(train_loader)\n",
    "\n",
    "images, labels = next(dataiter)\n",
    "\n",
    "num_row = 2\n",
    "num_col = 5\n",
    "# plot images\n",
    "fig, axes = plt.subplots(num_row, num_col, figsize=(1.5*num_col,2*num_row))\n",
    "for i in range(10):\n",
    "    test_image = images[i][0,:,:]\n",
    "    test_label = labels[i]\n",
    "    ax = axes[i//num_col, i%num_col]\n",
    "    ax.imshow(test_image, cmap='gray')\n",
    "    ax.set_title('Label: {}'.format(test_label.type(torch.int64).tolist()))\n",
    "plt.tight_layout()\n",
    "plt.show()\n",
    "fig.savefig(\"data_example.png\")"
   ]
  },
  {
   "cell_type": "code",
   "execution_count": 7,
   "metadata": {},
   "outputs": [
    {
     "name": "stdout",
     "output_type": "stream",
     "text": [
      "device: cpu\n"
     ]
    }
   ],
   "source": [
    "gpu = torch.cuda.is_available()\n",
    "device = torch.device(\"cuda:0\" if gpu else \"cpu\")\n",
    "device = torch.device(\"cpu\")\n",
    "print(\"device:\", device)"
   ]
  },
  {
   "cell_type": "code",
   "execution_count": 8,
   "metadata": {},
   "outputs": [],
   "source": [
    "def train(model, data_loader):\n",
    "\n",
    "    model.to(device)\n",
    "    \n",
    "    loss_list = []\n",
    "    criterion = nn.BCEWithLogitsLoss()\n",
    "    optimizer = optim.Adam(model.parameters(), lr=0.001, eps=0.1)\n",
    "\n",
    "    no_epochs = 10\n",
    "    for epoch in range(no_epochs):\n",
    "        epoch_loss = 0.0\n",
    "        for i, data in enumerate(data_loader, 0):\n",
    "            # Get the inputs; data is a list of [inputs, labels]\n",
    "            if (gpu):\n",
    "                inputs, labels = data[0].to(device), data[1].to(device)\n",
    "            else:\n",
    "                inputs, labels = data\n",
    "\n",
    "            # Zero the parameter gradients\n",
    "            optimizer.zero_grad()\n",
    "\n",
    "            # Forward + backward + optimize\n",
    "            outputs = model(inputs)\n",
    "            loss = criterion(outputs, labels)\n",
    "            loss.backward()\n",
    "\n",
    "            optimizer.step()\n",
    "\n",
    "            epoch_loss += loss.item()\n",
    "\n",
    "        loss_list.append(epoch_loss/(i+1.))\n",
    "\n",
    "    return loss_list"
   ]
  },
  {
   "attachments": {},
   "cell_type": "markdown",
   "metadata": {},
   "source": [
    "If the model exist and we dont want to retrain ie. load is true, we load the model"
   ]
  },
  {
   "cell_type": "code",
   "execution_count": 9,
   "metadata": {},
   "outputs": [],
   "source": [
    "model = CNNSmall()\n",
    "\n",
    "path = \"CNN_small\"\n",
    "load = False\n",
    "\n",
    "if load and os.path.isfile(path):\n",
    "    model.load_state_dict(torch.load(path))\n"
   ]
  },
  {
   "attachments": {},
   "cell_type": "markdown",
   "metadata": {},
   "source": [
    "If the model was not loaded we save it"
   ]
  },
  {
   "cell_type": "code",
   "execution_count": 10,
   "metadata": {},
   "outputs": [],
   "source": [
    "if not load:\n",
    "    model.train()\n",
    "    epoch_loss = train(model, train_loader)\n",
    "    torch.save(model.state_dict(), path)"
   ]
  }
 ],
 "metadata": {
  "kernelspec": {
   "display_name": "base",
   "language": "python",
   "name": "python3"
  },
  "language_info": {
   "codemirror_mode": {
    "name": "ipython",
    "version": 3
   },
   "file_extension": ".py",
   "mimetype": "text/x-python",
   "name": "python",
   "nbconvert_exporter": "python",
   "pygments_lexer": "ipython3",
   "version": "3.10.11"
  },
  "orig_nbformat": 4,
  "vscode": {
   "interpreter": {
    "hash": "fabe24d4f4f8f1cb4042d3ae8581d90a8322d64984e6763308b9bfeee36ebe98"
   }
  }
 },
 "nbformat": 4,
 "nbformat_minor": 2
}
