{
 "cells": [
  {
   "cell_type": "code",
   "execution_count": 1,
   "metadata": {},
   "outputs": [],
   "source": [
    "import sys\n",
    "import os\n",
    "sys.path.append('../Python/Tests')\n",
    "\n",
    "os.chdir(\"..\")\n",
    "\n",
    "import json\n",
    "import torch\n",
    "import torchvision\n",
    "from torch.utils.data import DataLoader\n",
    "import torchvision.datasets as datasets\n",
    "from helper_functions import tokenize\n",
    "import torch.nn as nn\n",
    "import matplotlib.pyplot as plt\n",
    "\n",
    "from CNN_small_architecture import CNNSmall"
   ]
  },
  {
   "cell_type": "code",
   "execution_count": 2,
   "metadata": {},
   "outputs": [],
   "source": [
    "MNIST_test = datasets.MNIST(root='./data', train=False, download=True, transform=torchvision.transforms.ToTensor())\n",
    "test_set = [[data[0], tokenize(data[1])] for data in MNIST_test if data[1] in [1,2]][:10]\n",
    "\n",
    "batch_size = 1\n",
    "test_loader = DataLoader(test_set, batch_size=batch_size)\n",
    "\n",
    "os.chdir(\"..\")"
   ]
  },
  {
   "attachments": {},
   "cell_type": "markdown",
   "metadata": {},
   "source": [
    "# Meta"
   ]
  },
  {
   "cell_type": "code",
   "execution_count": 3,
   "metadata": {},
   "outputs": [],
   "source": [
    "test_num = 0\n",
    "sme_config = \"/sme/CNNSmall/Configs/\"\n",
    "sme_tests =  \"/sme/CNNSmall/Tests/Network/\"\n",
    "test = \"/inputs/\" + str(test_num)"
   ]
  },
  {
   "attachments": {},
   "cell_type": "markdown",
   "metadata": {},
   "source": [
    "# Setting up the pytorch model"
   ]
  },
  {
   "cell_type": "code",
   "execution_count": 4,
   "metadata": {},
   "outputs": [],
   "source": [
    "# Setting up the original network\n",
    "model_original = CNNSmall()\n",
    "model_original.eval()\n",
    "# Setting the path to load the model\n",
    "path = \"Python/CNN_small\"\n",
    "load = True\n",
    "# Loading the model orginal model\n",
    "if load and os.path.isfile(path):\n",
    "    model_original.load_state_dict(torch.load(path))"
   ]
  },
  {
   "attachments": {},
   "cell_type": "markdown",
   "metadata": {},
   "source": [
    "# Test weights"
   ]
  },
  {
   "cell_type": "code",
   "execution_count": 14,
   "metadata": {},
   "outputs": [],
   "source": [
    "def conv_weights(path, torch_layer):\n",
    "    file = open(path)\n",
    "    open_file = json.load(file)\n",
    "\n",
    "    model_weight = torch_layer.weight\n",
    "    model_bias = torch_layer.bias\n",
    "\n",
    "    sme_weights = torch.tensor(open_file[\"weights\"]).reshape(model_weight.shape)\n",
    "    sme_bias = torch.tensor(open_file[\"biases\"]).reshape(model_bias.shape)\n",
    "    sme_inchannels = torch.tensor(open_file[\"numInChannels\"])\n",
    "\n",
    "    print(\"Weight diff: {}, bias diff: {}\".format(torch.sum(model_weight-sme_weights), torch.sum(model_bias-sme_bias)))\n",
    "\n",
    "def batchNorm_weights(path, torch_weight, torch_bias):\n",
    "    file = open(path)\n",
    "    open_file = json.load(file)\n",
    "\n",
    "    model_weight = torch_weight\n",
    "    model_bias = torch_bias\n",
    "\n",
    "    sme_weights = torch.tensor(open_file[\"weights\"]).reshape(model_weight.shape)\n",
    "    sme_bias = torch.tensor(open_file[\"biases\"]).reshape(model_bias.shape)\n",
    "    sme_inchannels = torch.tensor(open_file[\"numInChannels\"])\n",
    "\n",
    "    print(\"Weight diff: {}, bias diff: {}\".format(torch.sum(model_weight-sme_weights), torch.sum(model_bias-sme_bias)))"
   ]
  },
  {
   "attachments": {},
   "cell_type": "markdown",
   "metadata": {},
   "source": [
    "conv1"
   ]
  },
  {
   "cell_type": "code",
   "execution_count": 15,
   "metadata": {},
   "outputs": [
    {
     "name": "stdout",
     "output_type": "stream",
     "text": [
      "Weight diff: 0.0, bias diff: 0.0\n"
     ]
    }
   ],
   "source": [
    "dir = os.getcwd() + sme_config + \"conv1.json\"\n",
    "conv_weights(dir, model_original.conv1)"
   ]
  },
  {
   "attachments": {},
   "cell_type": "markdown",
   "metadata": {},
   "source": [
    "conv2"
   ]
  },
  {
   "cell_type": "code",
   "execution_count": 16,
   "metadata": {},
   "outputs": [
    {
     "name": "stdout",
     "output_type": "stream",
     "text": [
      "Weight diff: 0.0, bias diff: 0.0\n"
     ]
    }
   ],
   "source": [
    "dir = os.getcwd() + sme_config + \"conv2.json\"\n",
    "conv_weights(dir, model_original.conv2)"
   ]
  }
 ],
 "metadata": {
  "kernelspec": {
   "display_name": "dl",
   "language": "python",
   "name": "python3"
  },
  "language_info": {
   "codemirror_mode": {
    "name": "ipython",
    "version": 3
   },
   "file_extension": ".py",
   "mimetype": "text/x-python",
   "name": "python",
   "nbconvert_exporter": "python",
   "pygments_lexer": "ipython3",
   "version": "3.10.11"
  },
  "orig_nbformat": 4
 },
 "nbformat": 4,
 "nbformat_minor": 2
}
