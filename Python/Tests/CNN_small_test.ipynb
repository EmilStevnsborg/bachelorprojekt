{
 "cells": [
  {
   "attachments": {},
   "cell_type": "markdown",
   "metadata": {},
   "source": [
    "# Testing homemade layers\n",
    "\n",
    "This notebook contains tests for all the homemade layers. The tests takes some samples from the mni-\n",
    "st dataset as a minibatch and compares the results from running this minibatch through the test CNN\n",
    "to running the same minibatch through the homemade layers."
   ]
  },
  {
   "cell_type": "code",
   "execution_count": 2,
   "metadata": {},
   "outputs": [
    {
     "name": "stdout",
     "output_type": "stream",
     "text": [
      "/home/emil/Documents/bachelor/bachelorprojekt/Python\n"
     ]
    }
   ],
   "source": [
    "#importing relevant libraries\n",
    "\n",
    "import numpy as np\n",
    "import torch\n",
    "import torch.nn as nn\n",
    "import torchvision\n",
    "import torchvision.datasets as datasets\n",
    "from torch.utils.data import DataLoader\n",
    "import torch.optim as optim\n",
    "import torch.nn.functional as F\n",
    "import os\n",
    "\n",
    "%cd ..\n",
    "\n",
    "from CNN_small_architecture import CNNSmall\n",
    "from Tests.helper_functions import tokenize"
   ]
  },
  {
   "cell_type": "code",
   "execution_count": 3,
   "metadata": {},
   "outputs": [],
   "source": [
    "MNIST_test = datasets.MNIST(root='./data', train=False, download=True, transform=torchvision.transforms.ToTensor())\n",
    "test_set = [[data[0], tokenize(data[1])] for data in MNIST_test if data[1] in [1,2]][:1000]\n",
    "\n",
    "batch_size = 1\n",
    "test_loader = DataLoader(test_set, batch_size=batch_size)"
   ]
  },
  {
   "cell_type": "code",
   "execution_count": 4,
   "metadata": {},
   "outputs": [],
   "source": [
    "model_original = CNNSmall()\n",
    "model_original.eval()\n",
    "\n",
    "path = \"CNN_small\"\n",
    "load = True\n",
    "\n",
    "if load and os.path.isfile(path):\n",
    "    model_original.load_state_dict(torch.load(path))\n",
    "\n",
    "preds = []"
   ]
  },
  {
   "cell_type": "code",
   "execution_count": 7,
   "metadata": {},
   "outputs": [
    {
     "data": {
      "text/plain": [
       "Parameter containing:\n",
       "tensor([[[[-4.4859e-02,  3.9975e-02,  5.8035e-02, -6.3092e-02, -1.0189e-01],\n",
       "          [-2.5916e-02,  9.9018e-03,  4.3518e-02,  6.2601e-02, -5.4209e-02],\n",
       "          [-6.5588e-02,  7.4557e-02,  1.4062e-01, -7.7475e-02,  1.2925e-01],\n",
       "          [ 7.9538e-03,  4.8304e-02,  4.8660e-02, -8.2288e-02, -2.3752e-02],\n",
       "          [-6.9754e-05, -3.3026e-02,  1.3297e-01,  2.7708e-03, -1.9535e-02]],\n",
       "\n",
       "         [[-5.3181e-02, -9.3134e-02, -6.7886e-02,  6.0342e-02, -8.8757e-02],\n",
       "          [-1.1812e-01, -3.2548e-02, -8.2704e-02,  1.0737e-01,  7.4177e-02],\n",
       "          [-3.0274e-02, -5.2017e-02,  6.5842e-02,  2.8463e-02,  2.6924e-02],\n",
       "          [ 6.9070e-02,  1.2792e-01, -3.2999e-02,  7.0541e-03, -4.1690e-02],\n",
       "          [ 9.0487e-02,  1.0831e-02,  1.9193e-02, -3.9436e-02, -7.5359e-02]],\n",
       "\n",
       "         [[-1.1584e-02,  3.2560e-02, -2.2781e-03,  1.5844e-02,  1.3116e-01],\n",
       "          [-7.3840e-02, -5.5796e-02, -1.1778e-02, -6.3142e-03,  1.1828e-02],\n",
       "          [-7.4526e-03,  3.4776e-02, -1.0390e-01,  2.7618e-03,  2.1924e-02],\n",
       "          [ 2.7066e-02,  9.0536e-02, -9.7342e-02, -6.2854e-02, -9.1036e-02],\n",
       "          [ 1.0485e-01,  5.1879e-02,  1.6308e-02, -9.2434e-02,  7.1049e-02]]],\n",
       "\n",
       "\n",
       "        [[[-1.0084e-02, -1.2642e-01,  4.6815e-02,  1.1307e-01, -4.5252e-02],\n",
       "          [-3.7668e-02, -1.3541e-02,  1.8697e-02, -1.6976e-02,  1.6677e-01],\n",
       "          [-3.1246e-02,  9.3663e-02,  7.9427e-02, -6.9132e-02, -1.2285e-01],\n",
       "          [-6.7366e-03, -3.8615e-02, -1.3867e-02, -1.1473e-01, -1.0054e-01],\n",
       "          [ 1.5759e-02,  5.2048e-02, -8.1303e-03, -9.7348e-02, -2.9965e-02]],\n",
       "\n",
       "         [[ 5.1685e-02, -1.8067e-01,  4.5789e-03,  1.6770e-01,  2.3900e-01],\n",
       "          [-5.3398e-02, -5.4556e-02,  4.3306e-02,  6.9545e-02, -6.5206e-03],\n",
       "          [-8.5816e-03,  7.5522e-02, -9.1962e-03, -5.0784e-02, -4.0410e-02],\n",
       "          [-5.2278e-02,  3.1675e-02, -7.2398e-02,  1.0582e-01,  1.0304e-01],\n",
       "          [ 3.8428e-02, -1.4993e-02, -1.4651e-02,  1.1983e-01, -8.9649e-03]],\n",
       "\n",
       "         [[-6.0215e-03, -8.1875e-02,  1.5462e-01,  5.6222e-02, -1.6728e-02],\n",
       "          [-4.9515e-03, -2.6751e-02, -1.7162e-02,  1.7473e-02,  1.2868e-01],\n",
       "          [-1.9134e-02,  2.7473e-02, -8.7870e-02,  1.6858e-02,  3.4664e-03],\n",
       "          [ 2.9957e-02,  2.2239e-02,  1.9997e-02, -2.5406e-02,  4.0435e-03],\n",
       "          [ 5.5401e-02,  8.7805e-03,  1.1945e-02,  5.3234e-02,  5.9964e-02]]],\n",
       "\n",
       "\n",
       "        [[[-2.9294e-02,  1.6920e-03, -1.7541e-02, -7.7433e-02, -8.9690e-03],\n",
       "          [-3.7737e-02,  1.6687e-02, -9.3094e-02, -6.0213e-02, -1.6983e-02],\n",
       "          [ 1.1608e-02, -1.7584e-01,  9.1152e-03,  8.2398e-02,  8.3806e-02],\n",
       "          [-5.8574e-02,  1.0973e-01,  1.3358e-01,  1.5038e-02, -2.4518e-02],\n",
       "          [-2.1253e-02,  2.8154e-02,  5.0953e-04,  3.0956e-02, -2.4294e-02]],\n",
       "\n",
       "         [[ 1.5998e-01, -1.5788e-02,  1.1267e-01, -6.4703e-03,  3.8875e-03],\n",
       "          [ 1.6605e-01, -9.3523e-02,  2.4849e-02, -7.7623e-02,  1.4891e-02],\n",
       "          [ 1.8925e-03,  1.6514e-01,  1.2943e-01, -1.5430e-02, -2.8616e-02],\n",
       "          [ 6.7428e-02,  1.8118e-02,  6.6336e-02, -2.5317e-02,  8.3712e-02],\n",
       "          [ 6.9505e-03, -7.8401e-02, -9.5534e-02, -4.3533e-03,  2.3809e-01]],\n",
       "\n",
       "         [[ 8.2218e-02,  3.9417e-02,  7.1222e-02,  5.5522e-03, -3.8776e-02],\n",
       "          [-3.9211e-03,  9.6985e-03, -3.3294e-02,  4.6267e-02,  1.7358e-02],\n",
       "          [-4.7651e-02, -6.2131e-02,  6.2360e-02,  1.7653e-01,  9.3550e-02],\n",
       "          [ 4.0580e-02,  1.7160e-02,  9.9222e-03,  2.8966e-02,  1.3947e-01],\n",
       "          [-7.1911e-02, -4.8213e-02,  6.7949e-02, -2.6865e-02,  5.3520e-02]]],\n",
       "\n",
       "\n",
       "        [[[-8.3810e-02, -6.0989e-02, -7.9185e-02,  8.8332e-02,  5.5452e-02],\n",
       "          [ 4.8615e-02, -9.3330e-02,  4.0910e-03,  7.4466e-02,  7.2766e-02],\n",
       "          [-2.4819e-02,  2.2229e-02,  4.1449e-02,  3.3107e-02, -5.2032e-02],\n",
       "          [-1.4517e-02,  4.5467e-02, -6.4237e-02, -2.2997e-02, -7.3667e-02],\n",
       "          [-5.0368e-02,  1.8089e-02,  6.7144e-03,  5.0570e-02, -1.9270e-01]],\n",
       "\n",
       "         [[-7.4456e-02, -3.8917e-02, -2.9752e-02, -7.6422e-03,  9.6163e-02],\n",
       "          [ 5.4150e-03, -6.3712e-02,  2.6496e-02,  1.2485e-01,  8.2848e-02],\n",
       "          [ 1.8851e-03,  9.3406e-03, -3.4171e-02,  5.0455e-02, -8.9526e-02],\n",
       "          [ 7.5678e-02,  2.8796e-02, -1.4564e-02,  3.4338e-02, -1.0509e-02],\n",
       "          [ 1.4985e-01,  2.3554e-02, -2.1358e-02, -7.9453e-02, -1.1622e-01]],\n",
       "\n",
       "         [[-4.0311e-04, -4.8084e-02, -1.1528e-01, -1.9191e-02,  1.1170e-01],\n",
       "          [-8.6115e-03, -6.2870e-02, -5.0793e-02,  1.6114e-02, -9.6681e-03],\n",
       "          [-1.2635e-02, -2.1468e-02,  2.4432e-02, -3.5819e-02, -7.7935e-03],\n",
       "          [-1.5017e-02,  4.8781e-02,  5.8141e-02, -9.3175e-02,  6.5085e-02],\n",
       "          [ 4.9650e-02, -5.9048e-02, -3.3575e-02, -2.0851e-02, -1.0600e-01]]],\n",
       "\n",
       "\n",
       "        [[[ 1.2805e-01,  1.4619e-03, -7.6408e-02, -7.6300e-02, -3.9322e-02],\n",
       "          [ 2.1253e-02,  7.4924e-02, -3.8843e-02, -1.5531e-02, -5.2166e-02],\n",
       "          [-1.2765e-01,  1.7241e-01, -1.6452e-01, -2.4316e-02, -1.4513e-03],\n",
       "          [-3.6371e-02,  1.0430e-01, -3.9773e-02,  1.1697e-02, -5.6834e-02],\n",
       "          [ 3.2261e-03,  1.4814e-01, -7.7654e-02, -3.3716e-03,  4.4051e-02]],\n",
       "\n",
       "         [[-1.3354e-03,  8.9243e-02, -1.0639e-02, -5.4568e-02,  5.4718e-02],\n",
       "          [-1.0528e-01, -2.6314e-02,  6.9714e-03, -4.8194e-02,  2.3633e-02],\n",
       "          [-6.6459e-02, -1.3998e-01,  4.4291e-03,  6.7991e-02, -1.5354e-03],\n",
       "          [-4.5764e-03, -3.2629e-02, -3.3054e-02,  1.3190e-01, -6.1205e-04],\n",
       "          [ 1.0196e-03, -1.8882e-02,  6.4342e-03,  1.3728e-01,  2.1751e-02]],\n",
       "\n",
       "         [[-9.9063e-03,  2.0430e-02,  8.2895e-02, -1.2203e-01, -1.1674e-01],\n",
       "          [ 3.3242e-02,  2.7818e-02, -1.5223e-01, -9.5725e-02, -1.1108e-01],\n",
       "          [ 1.8508e-02,  9.9688e-02, -9.8014e-02, -7.6448e-02,  4.5596e-03],\n",
       "          [ 5.0744e-02,  4.8391e-02, -7.7959e-03, -6.8581e-02, -2.3065e-02],\n",
       "          [-1.5124e-02,  1.4451e-01,  5.9660e-02,  4.5226e-02, -6.1365e-02]]]],\n",
       "       requires_grad=True)"
      ]
     },
     "execution_count": 7,
     "metadata": {},
     "output_type": "execute_result"
    }
   ],
   "source": [
    "model_original.conv2.weight"
   ]
  },
  {
   "cell_type": "code",
   "execution_count": 5,
   "metadata": {},
   "outputs": [],
   "source": [
    "with torch.no_grad():\n",
    "    for data in test_loader:\n",
    "        image, label = data\n",
    "        output = model_original(image)\n",
    "        if torch.argmax(output) == torch.argmax(label):\n",
    "            preds.append(1)\n",
    "        else:\n",
    "            preds.append(0)\n",
    "        "
   ]
  },
  {
   "cell_type": "code",
   "execution_count": 6,
   "metadata": {},
   "outputs": [
    {
     "data": {
      "text/plain": [
       "0.994"
      ]
     },
     "execution_count": 6,
     "metadata": {},
     "output_type": "execute_result"
    }
   ],
   "source": [
    "preds.count(1)/len(preds)"
   ]
  }
 ],
 "metadata": {
  "kernelspec": {
   "display_name": "base",
   "language": "python",
   "name": "python3"
  },
  "language_info": {
   "codemirror_mode": {
    "name": "ipython",
    "version": 3
   },
   "file_extension": ".py",
   "mimetype": "text/x-python",
   "name": "python",
   "nbconvert_exporter": "python",
   "pygments_lexer": "ipython3",
   "version": "3.10.11"
  },
  "orig_nbformat": 4,
  "vscode": {
   "interpreter": {
    "hash": "f31e8003a22d1d43deb930c821e4af1d8090c97ed08fe8384c28a99b74fb445c"
   }
  }
 },
 "nbformat": 4,
 "nbformat_minor": 2
}
