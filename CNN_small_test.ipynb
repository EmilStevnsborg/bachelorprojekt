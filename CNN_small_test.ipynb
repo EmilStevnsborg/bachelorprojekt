{
 "cells": [
  {
   "cell_type": "code",
   "execution_count": 51,
   "metadata": {},
   "outputs": [],
   "source": [
    "#neural net\n",
    "import numpy as np\n",
    "import torch\n",
    "import torch.nn as nn\n",
    "import torchvision\n",
    "import torchvision.datasets as datasets\n",
    "from torch.utils.data import DataLoader, TensorDataset, Subset\n",
    "import torch.optim as optim\n",
    "import torch.nn.functional as F\n",
    "from CNN_small_architecture import CNNSmall\n",
    "import conv_homemade\n",
    "import os"
   ]
  },
  {
   "cell_type": "code",
   "execution_count": 2,
   "metadata": {},
   "outputs": [],
   "source": [
    "def tokenize(num):\n",
    "    if num == 1:\n",
    "        return torch.tensor(np.array([1., 0.]))\n",
    "    else:\n",
    "        return torch.tensor(np.array([0., 1.]))\n",
    "\n",
    "MNIST_test = datasets.MNIST(root='./data', train=True, download=True, transform=torchvision.transforms.ToTensor())\n",
    "test_set = [[data[0], tokenize(data[1])] for data in MNIST_test if data[1] in [1,2]]\n",
    "\n",
    "batch_size = 2\n",
    "test_loader = DataLoader(test_set, batch_size=batch_size)"
   ]
  },
  {
   "cell_type": "code",
   "execution_count": 77,
   "metadata": {},
   "outputs": [],
   "source": [
    "def transform_input(input_batch):\n",
    "    return list(list(input_batch.detach().numpy()))\n",
    "\n",
    "# compares two of the datatype transform_input produces\n",
    "def compare(x, y):\n",
    "    b_diff = []\n",
    "    batch_size = len(x)\n",
    "\n",
    "    for b in range(batch_size):\n",
    "        c_diff = []\n",
    "        channels = len(x[b])\n",
    "\n",
    "        for c in range(channels):\n",
    "            diff = np.sum(np.absolute(x[b][c] - y[b][c]))\n",
    "            c_diff.append(diff)\n",
    "        \n",
    "        b_diff.append(c_diff)\n",
    "    \n",
    "    return b_diff"
   ]
  },
  {
   "cell_type": "code",
   "execution_count": 5,
   "metadata": {},
   "outputs": [],
   "source": [
    "model_original = CNNSmall()\n",
    "\n",
    "path = \"CNN_small\"\n",
    "load = True\n",
    "\n",
    "if load and os.path.isfile(path):\n",
    "    model_original.load_state_dict(torch.load(path))"
   ]
  },
  {
   "cell_type": "code",
   "execution_count": 74,
   "metadata": {},
   "outputs": [],
   "source": [
    "input_original_test, label_test = next(iter(test_loader))\n",
    "input_homemade_test = transform_input(input_batch=input_original_test)"
   ]
  },
  {
   "cell_type": "code",
   "execution_count": 50,
   "metadata": {},
   "outputs": [],
   "source": [
    "weights = model_original.conv1.weight\n",
    "biases = model_original.conv1.bias.detach().numpy()\n",
    "\n",
    "out_c, in_c, r, c = weights.shape\n",
    "conv1_filters = []\n",
    "\n",
    "for f in range(out_c):\n",
    "    filter_ = []\n",
    "    kernels = []\n",
    "\n",
    "    for kernel in list(weights[f,:,:,:]):\n",
    "        kernels.append(kernel.detach().numpy())\n",
    "\n",
    "    filter_.append(kernels)\n",
    "    filter_.append(biases[f])\n",
    "    conv1_filters.append(filter_)\n"
   ]
  },
  {
   "cell_type": "code",
   "execution_count": 60,
   "metadata": {},
   "outputs": [],
   "source": [
    "conv1_homemade = conv_homemade.Conv(filters=conv1_filters, in_channels=in_c)"
   ]
  },
  {
   "cell_type": "code",
   "execution_count": 78,
   "metadata": {},
   "outputs": [
    {
     "data": {
      "text/plain": [
       "[[1.1187170039211186e-06, 1.5127357207156411e-06, 3.568385146715536e-06],\n",
       " [2.430800072740144e-06, 3.058141927331226e-06, 5.174706039362542e-06]]"
      ]
     },
     "execution_count": 78,
     "metadata": {},
     "output_type": "execute_result"
    }
   ],
   "source": [
    "# homemade conv1 filter on test\n",
    "out_homemade = conv1_homemade(input_homemade_test)\n",
    "# transformed tensor of original conv1 on test to datatype of homemade conv filter\n",
    "out_original = transform_input(input_batch=model_original.conv1(input_original_test))\n",
    "\n",
    "compare(out_homemade, out_original)"
   ]
  }
 ],
 "metadata": {
  "kernelspec": {
   "display_name": "dl",
   "language": "python",
   "name": "python3"
  },
  "language_info": {
   "codemirror_mode": {
    "name": "ipython",
    "version": 3
   },
   "file_extension": ".py",
   "mimetype": "text/x-python",
   "name": "python",
   "nbconvert_exporter": "python",
   "pygments_lexer": "ipython3",
   "version": "3.10.9"
  },
  "orig_nbformat": 4,
  "vscode": {
   "interpreter": {
    "hash": "9b58bb38672e2005d274bdde6e3b7f508360a8946af7aaa864713994a5b1ef16"
   }
  }
 },
 "nbformat": 4,
 "nbformat_minor": 2
}
